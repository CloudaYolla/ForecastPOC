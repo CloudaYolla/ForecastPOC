{
 "cells": [
  {
   "cell_type": "markdown",
   "metadata": {},
   "source": [
    "# Creating and Evaluating Forecasts from Console\n",
    "\n",
    "\n",
    "`(Revision History:\n",
    "PA1, 2020-06-03, @akirmak: Initial version\n",
    "`\n",
    "\n",
    "In the previous labs, you have created Target TS and Related TS Datasets. In this lab you'll\n",
    "\n",
    "1. Create a new Forecast using the DeepAR+ Predictor on TTS and RTS Datasets using Console\n",
    "1. Do a Forecast lookup from the Console.\n"
   ]
  },
  {
   "cell_type": "markdown",
   "metadata": {},
   "source": [
    "## Verify TTS and RTS Datasets\n",
    "1. Open AWS Forecast console -> Dataset Group -> Datasets.\n",
    "1. Verify that both Target Time Series and Related Time Series datasets are `active`\n",
    "\n",
    "\n",
    "\n",
    "![Forecast Wshop Image](images/mod03_01.png \"Forecast Wshop Image\") \n",
    "\n",
    "\n"
   ]
  },
  {
   "cell_type": "markdown",
   "metadata": {},
   "source": [
    "## Verify Predictors\n",
    "\n",
    "1. Go to AWS Forecast  -> Predictors.\n",
    "1. Verify that `_deeparp_rel_algo_1` predictor from previous lab module is `active`.\n",
    "\n",
    "\n",
    "![Forecast Wshop Image](images/mod03_02.png \"Forecast Wshop Image\") \n",
    "\n",
    "\n"
   ]
  },
  {
   "cell_type": "markdown",
   "metadata": {},
   "source": [
    "## Create Forecast\n",
    "\n",
    "1. Go to AWS Forecast  -> Forecasts.\n",
    "1. Select `Create Forecast` button on the top right.\n",
    "1. Enter\n",
    "  - Name: `forecast_poc_deeparp_rel_algo_1_TTS_RTS_consoleFC`\n",
    "  - Predictor: Select `..._deeparp_rel_algo_1` from the list.\n",
    "  - Forecast types: Leave empty\n",
    "1. Verify that the forecast creation started. It can take 10-30 Minutes until the forecast is ready.\n",
    "\n",
    "![Forecast Wshop Image](images/mod03_03.png \"Forecast Wshop Image\") \n",
    "\n",
    "\n",
    "\n",
    "![Forecast Wshop Image](images/mod03_04.png \"Forecast Wshop Image\") \n",
    "\n"
   ]
  },
  {
   "cell_type": "markdown",
   "metadata": {},
   "source": [
    "## Create Forecast Lookup\n",
    "\n",
    "1. Go to AWS Forecast  -> Forecast Lookup.\n",
    "1. Enter: \n",
    "  - Forecast Name: `forecast_poc_deeparp_rel_algo_1_TTS_RTS_consoleFC`\n",
    "  - Start Date: `2017-12-15`\n",
    "  - Start Time: `00:00:00`\n",
    "  - Start Date: `2018-01-20`\n",
    "  - Start Time: `23:00:00`\n",
    "  - Forecast Key Value: `1`\n",
    "1. Discuss the Forecast Graph\n",
    "\n",
    "![Forecast Wshop Image](images/mod03_05.png \"Forecast Wshop Image\") \n",
    "\n",
    "\n",
    "![Forecast Wshop Image](images/mod03_06.png \"Forecast Wshop Image\") \n",
    "\n"
   ]
  },
  {
   "cell_type": "markdown",
   "metadata": {},
   "source": [
    "Congratulations. You've created a forecast and forecast lookup using the Forecast console. "
   ]
  }
 ],
 "metadata": {
  "kernelspec": {
   "display_name": "conda_python3",
   "language": "python",
   "name": "conda_python3"
  },
  "language_info": {
   "codemirror_mode": {
    "name": "ipython",
    "version": 3
   },
   "file_extension": ".py",
   "mimetype": "text/x-python",
   "name": "python",
   "nbconvert_exporter": "python",
   "pygments_lexer": "ipython3",
   "version": "3.6.5"
  }
 },
 "nbformat": 4,
 "nbformat_minor": 4
}
